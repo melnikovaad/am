{
  "nbformat": 4,
  "nbformat_minor": 0,
  "metadata": {
    "colab": {
      "provenance": [],
      "include_colab_link": true
    },
    "kernelspec": {
      "name": "python3",
      "display_name": "Python 3"
    },
    "language_info": {
      "name": "python"
    }
  },
  "cells": [
    {
      "cell_type": "markdown",
      "metadata": {
        "id": "view-in-github",
        "colab_type": "text"
      },
      "source": [
        "<a href=\"https://colab.research.google.com/github/melnikovaad/am/blob/main/%D0%94%D0%BE%D0%BC%D0%B0%D1%88%D0%BD%D1%8F%D1%8F_%D1%80%D0%B0%D0%B1%D0%BE%D1%82%D0%B0_%D0%9C%D0%B5%D0%BB%D1%8C%D0%BD%D0%B8%D0%BA%D0%BE%D0%B2%D0%B0_%D0%90%D0%BB%D0%B5%D0%BA%D1%81%D0%B0%D0%BD%D0%B4%D1%80%D0%B0.ipynb\" target=\"_parent\"><img src=\"https://colab.research.google.com/assets/colab-badge.svg\" alt=\"Open In Colab\"/></a>"
      ]
    },
    {
      "cell_type": "markdown",
      "source": [
        "# Типы данных"
      ],
      "metadata": {
        "id": "Hm7JPANp9gFa"
      }
    },
    {
      "cell_type": "markdown",
      "source": [
        "## Списки"
      ],
      "metadata": {
        "id": "S1DuLHx99mJj"
      }
    },
    {
      "cell_type": "code",
      "source": [
        "print(\"abcdefgh\"[1] + \"01234567\"[::2] + \"HGFEDCBA\"[1::2])\n",
        "b\n",
        "0246\n",
        "GECA"
      ],
      "metadata": {
        "id": "vjW98VEM9oYB"
      },
      "execution_count": null,
      "outputs": []
    },
    {
      "cell_type": "code",
      "source": [
        "a = [1, 3, 8, 7]\n",
        "a[1:3] = [0, 0, 0]\n",
        "1 0 0 0 7\n",
        "a[:-3]\n",
        "7 0\n",
        "\n"
      ],
      "metadata": {
        "id": "pVjQ8oQf-_3c"
      },
      "execution_count": null,
      "outputs": []
    },
    {
      "cell_type": "markdown",
      "source": [
        "### Задача 1. Дополнение строк"
      ],
      "metadata": {
        "id": "k8bqIyOifreX"
      }
    },
    {
      "cell_type": "markdown",
      "source": [
        "На входе имеем список строк разной длины.\n",
        "Необходимо написать функцию all_eq(lst), которая вернет новый список из строк одинаковой длины.\n",
        "Длину итоговой строки определяем исходя из самой большой из них.\n",
        "Если конкретная строка короче самой длинной, дополнить ее нижними подчеркиваниями с правого края до требуемого количества символов.\n",
        "Расположение элементов начального списка не менять."
      ],
      "metadata": {
        "id": "_J3eDcRU_WAN"
      }
    },
    {
      "cell_type": "code",
      "source": [
        "print(all_eq(['крот', 'белка', 'выхухоль']))\n",
        "print(all_eq(['a', 'aa', 'aaa', 'aaaa', 'aaaaa']))\n",
        "print(all_eq(['qweasdqweas', 'q', 'rteww', 'ewqqqqq']))\n",
        "len ()"
      ],
      "metadata": {
        "id": "U9KJUslx_XSo",
        "colab": {
          "base_uri": "https://localhost:8080/",
          "height": 228
        },
        "outputId": "dc587870-01a8-4f3b-ee0d-e5d5151ed965"
      },
      "execution_count": null,
      "outputs": [
        {
          "output_type": "error",
          "ename": "NameError",
          "evalue": "ignored",
          "traceback": [
            "\u001b[0;31m---------------------------------------------------------------------------\u001b[0m",
            "\u001b[0;31mNameError\u001b[0m                                 Traceback (most recent call last)",
            "\u001b[0;32m<ipython-input-2-bff16958ef73>\u001b[0m in \u001b[0;36m<cell line: 1>\u001b[0;34m()\u001b[0m\n\u001b[0;32m----> 1\u001b[0;31m \u001b[0mprint\u001b[0m\u001b[0;34m(\u001b[0m\u001b[0mall_eq\u001b[0m\u001b[0;34m(\u001b[0m\u001b[0;34m[\u001b[0m\u001b[0;34m'крот'\u001b[0m\u001b[0;34m,\u001b[0m \u001b[0;34m'белка'\u001b[0m\u001b[0;34m,\u001b[0m \u001b[0;34m'выхухоль'\u001b[0m\u001b[0;34m]\u001b[0m\u001b[0;34m)\u001b[0m\u001b[0;34m)\u001b[0m\u001b[0;34m\u001b[0m\u001b[0;34m\u001b[0m\u001b[0m\n\u001b[0m\u001b[1;32m      2\u001b[0m \u001b[0mprint\u001b[0m\u001b[0;34m(\u001b[0m\u001b[0mall_eq\u001b[0m\u001b[0;34m(\u001b[0m\u001b[0;34m[\u001b[0m\u001b[0;34m'a'\u001b[0m\u001b[0;34m,\u001b[0m \u001b[0;34m'aa'\u001b[0m\u001b[0;34m,\u001b[0m \u001b[0;34m'aaa'\u001b[0m\u001b[0;34m,\u001b[0m \u001b[0;34m'aaaa'\u001b[0m\u001b[0;34m,\u001b[0m \u001b[0;34m'aaaaa'\u001b[0m\u001b[0;34m]\u001b[0m\u001b[0;34m)\u001b[0m\u001b[0;34m)\u001b[0m\u001b[0;34m\u001b[0m\u001b[0;34m\u001b[0m\u001b[0m\n\u001b[1;32m      3\u001b[0m \u001b[0mprint\u001b[0m\u001b[0;34m(\u001b[0m\u001b[0mall_eq\u001b[0m\u001b[0;34m(\u001b[0m\u001b[0;34m[\u001b[0m\u001b[0;34m'qweasdqweas'\u001b[0m\u001b[0;34m,\u001b[0m \u001b[0;34m'q'\u001b[0m\u001b[0;34m,\u001b[0m \u001b[0;34m'rteww'\u001b[0m\u001b[0;34m,\u001b[0m \u001b[0;34m'ewqqqqq'\u001b[0m\u001b[0;34m]\u001b[0m\u001b[0;34m)\u001b[0m\u001b[0;34m)\u001b[0m\u001b[0;34m\u001b[0m\u001b[0;34m\u001b[0m\u001b[0m\n\u001b[1;32m      4\u001b[0m \u001b[0mlen\u001b[0m \u001b[0;34m(\u001b[0m\u001b[0;34m)\u001b[0m\u001b[0;34m\u001b[0m\u001b[0;34m\u001b[0m\u001b[0m\n",
            "\u001b[0;31mNameError\u001b[0m: name 'all_eq' is not defined"
          ]
        }
      ]
    },
    {
      "cell_type": "markdown",
      "source": [
        "```\n",
        "['крот____', 'белка___', 'выхухоль']\n",
        "['a____', 'aa___', 'aaa__', 'aaaa_', 'aaaaa']\n",
        "['qweasdqweas', 'q__________', 'rteww______', 'ewqqqqq____']\n",
        "```"
      ],
      "metadata": {
        "id": "Hf4-S8Ko_bTQ"
      }
    },
    {
      "cell_type": "code",
      "source": [
        "def all_eq(lst):\n",
        "  m= max(lst, key=lambda x: len(x))\n",
        "  ml= len(m)\n",
        "  return [item.ljust(ml, '_') for item in lst]\n"
      ],
      "metadata": {
        "id": "7W770u-9flKO"
      },
      "execution_count": null,
      "outputs": []
    },
    {
      "cell_type": "markdown",
      "source": [
        "### Задача 2. Подсчёт слов"
      ],
      "metadata": {
        "id": "09cUHSLJftGP"
      }
    },
    {
      "cell_type": "markdown",
      "source": [
        "Функция split сканирует всю строку и разделяет ее в случае нахождения разделителя.\n",
        "\n",
        "В строке должен быть как минимум один разделитель. Им может выступать в том числе и символ пробела. Пробел — разделитель по умолчанию."
      ],
      "metadata": {
        "id": "FljG1zyGfF_i"
      }
    },
    {
      "cell_type": "code",
      "source": [
        "s = \"Hello world\"\n",
        "s.split()"
      ],
      "metadata": {
        "colab": {
          "base_uri": "https://localhost:8080/"
        },
        "id": "LxWgKzejfAUf",
        "outputId": "6fd07bb9-0f2a-4ed7-9e1c-b2f4fb5b2748"
      },
      "execution_count": null,
      "outputs": [
        {
          "output_type": "execute_result",
          "data": {
            "text/plain": [
              "['Hello', 'world']"
            ]
          },
          "metadata": {},
          "execution_count": 1
        }
      ]
    },
    {
      "cell_type": "markdown",
      "source": [
        "**Задача**\n",
        "\n",
        "На вход подается некоторая строка, посчитаете количество слов в строке."
      ],
      "metadata": {
        "id": "o0zhP8K5fM_s"
      }
    },
    {
      "cell_type": "code",
      "source": [
        "s=str(input())\n",
        "s.split()"
      ],
      "metadata": {
        "id": "eplSnpbOfVtg",
        "colab": {
          "base_uri": "https://localhost:8080/"
        },
        "outputId": "6bf16c94-57d3-4b40-ee35-07cefddce371"
      },
      "execution_count": null,
      "outputs": [
        {
          "name": "stdout",
          "output_type": "stream",
          "text": [
            "Hello World\n"
          ]
        },
        {
          "output_type": "execute_result",
          "data": {
            "text/plain": [
              "['Hello', 'World']"
            ]
          },
          "metadata": {},
          "execution_count": 4
        }
      ]
    },
    {
      "cell_type": "markdown",
      "source": [
        "## Dict (ассоциативный массив)\n",
        "\n",
        "Словарь используется для хранение пары объектов вида:\n",
        "\n",
        "```\n",
        "<ключи>:<значение>\n",
        "```\n",
        "Это очень удобная форма хранения данных, называемая \"ассоцированный массив\".\n"
      ],
      "metadata": {
        "id": "EMYc8iFe9qaq"
      }
    },
    {
      "cell_type": "code",
      "source": [
        "# Создадим пустой словать Capitals\n",
        "Capitals = dict() #Capitals = {}\n",
        "\n",
        "# Заполним его несколькими значениями\n",
        "Capitals['Russia'] = 'Moscow'\n",
        "Capitals['Ukraine'] = 'Kiev'\n",
        "Capitals['USA'] = 'Washington'\n",
        "\n",
        "Capitals"
      ],
      "metadata": {
        "id": "Wv0NYNz59tGB"
      },
      "execution_count": null,
      "outputs": []
    },
    {
      "cell_type": "code",
      "source": [
        "# Считаем название страны\n",
        "print('Введите текст, в какой стране вы живете?')\n",
        "country = input()"
      ],
      "metadata": {
        "id": "7tJ-_zd29vPO"
      },
      "execution_count": null,
      "outputs": []
    },
    {
      "cell_type": "code",
      "source": [
        "# Проверим, есть ли такая страна в словаре Capitals\n",
        "if country in Capitals:\n",
        "    # Если есть - выведем ее столицу\n",
        "    print('Столица вашей страны', Capitals[country])\n",
        "else:\n",
        "    # Запросим название столицы и добавив его в словарь\n",
        "    print('Мы не нашли такую страну. Введите текст, как называется столица вашей страны?')\n",
        "    city = input()\n",
        "    Capitals[country] = city"
      ],
      "metadata": {
        "id": "eQpaPy4q9wyy"
      },
      "execution_count": null,
      "outputs": []
    },
    {
      "cell_type": "code",
      "source": [
        "print(Capitals)"
      ],
      "metadata": {
        "id": "FFETedjs9zVN"
      },
      "execution_count": null,
      "outputs": []
    },
    {
      "cell_type": "code",
      "source": [
        "print(Capitals.keys(), \"- Этот метод возвращает представление клюей в заданном словаре\", '\\n')\n",
        "\n",
        "print(Capitals.values(), \"- Этот метод возвращает представление значений в заданном словаре\", '\\n')\n",
        "\n",
        "print(Capitals.items(), \"- Этот метод возвращает представление пар (кортежей) ключ-значение в заданном словаре\", '\\n')"
      ],
      "metadata": {
        "id": "sSkrDGzb9zsi",
        "colab": {
          "base_uri": "https://localhost:8080/",
          "height": 245
        },
        "outputId": "317e8711-d5ce-4e22-91fc-1025e253505b"
      },
      "execution_count": null,
      "outputs": [
        {
          "output_type": "error",
          "ename": "NameError",
          "evalue": "ignored",
          "traceback": [
            "\u001b[0;31m---------------------------------------------------------------------------\u001b[0m",
            "\u001b[0;31mNameError\u001b[0m                                 Traceback (most recent call last)",
            "\u001b[0;32m<ipython-input-5-083d8de1b38a>\u001b[0m in \u001b[0;36m<cell line: 1>\u001b[0;34m()\u001b[0m\n\u001b[0;32m----> 1\u001b[0;31m \u001b[0mprint\u001b[0m\u001b[0;34m(\u001b[0m\u001b[0mCapitals\u001b[0m\u001b[0;34m.\u001b[0m\u001b[0mkeys\u001b[0m\u001b[0;34m(\u001b[0m\u001b[0;34m)\u001b[0m\u001b[0;34m,\u001b[0m \u001b[0;34m\"- Этот метод возвращает представление клюей в заданном словаре\"\u001b[0m\u001b[0;34m,\u001b[0m \u001b[0;34m'\\n'\u001b[0m\u001b[0;34m)\u001b[0m\u001b[0;34m\u001b[0m\u001b[0;34m\u001b[0m\u001b[0m\n\u001b[0m\u001b[1;32m      2\u001b[0m \u001b[0;34m\u001b[0m\u001b[0m\n\u001b[1;32m      3\u001b[0m \u001b[0mprint\u001b[0m\u001b[0;34m(\u001b[0m\u001b[0mCapitals\u001b[0m\u001b[0;34m.\u001b[0m\u001b[0mvalues\u001b[0m\u001b[0;34m(\u001b[0m\u001b[0;34m)\u001b[0m\u001b[0;34m,\u001b[0m \u001b[0;34m\"- Этот метод возвращает представление значений в заданном словаре\"\u001b[0m\u001b[0;34m,\u001b[0m \u001b[0;34m'\\n'\u001b[0m\u001b[0;34m)\u001b[0m\u001b[0;34m\u001b[0m\u001b[0;34m\u001b[0m\u001b[0m\n\u001b[1;32m      4\u001b[0m \u001b[0;34m\u001b[0m\u001b[0m\n\u001b[1;32m      5\u001b[0m \u001b[0mprint\u001b[0m\u001b[0;34m(\u001b[0m\u001b[0mCapitals\u001b[0m\u001b[0;34m.\u001b[0m\u001b[0mitems\u001b[0m\u001b[0;34m(\u001b[0m\u001b[0;34m)\u001b[0m\u001b[0;34m,\u001b[0m \u001b[0;34m\"- Этот метод возвращает представление пар (кортежей) ключ-значение в заданном словаре\"\u001b[0m\u001b[0;34m,\u001b[0m \u001b[0;34m'\\n'\u001b[0m\u001b[0;34m)\u001b[0m\u001b[0;34m\u001b[0m\u001b[0;34m\u001b[0m\u001b[0m\n",
            "\u001b[0;31mNameError\u001b[0m: name 'Capitals' is not defined"
          ]
        }
      ]
    },
    {
      "cell_type": "code",
      "source": [
        "if 'Russia' in Capitals:\n",
        "  del Capitals['Russia'] #работает не только для словаря, кстати!\n",
        "print(Capitals)"
      ],
      "metadata": {
        "id": "INQ7-ndX92sR"
      },
      "execution_count": null,
      "outputs": []
    },
    {
      "cell_type": "code",
      "source": [
        "# можно также изменять значение по ключу.\n",
        "\n",
        "Capitals['Ukraine'] = 'London'\n",
        "Capitals"
      ],
      "metadata": {
        "id": "HN7e5aT_92_5"
      },
      "execution_count": null,
      "outputs": []
    },
    {
      "cell_type": "markdown",
      "source": [
        "### Задача 3. Синонимы"
      ],
      "metadata": {
        "id": "zAXapQOXf3pQ"
      }
    },
    {
      "cell_type": "markdown",
      "source": [
        "\n",
        "\n",
        "Вам дан словарь, состоящий из пар слов. Каждое слово является синонимом к парному ему слову. Все слова в словаре различны.\n",
        "\n",
        "Для слова из словаря, записанного в последней строке, определите его синоним."
      ],
      "metadata": {
        "id": "fvShpd1I_34l"
      }
    },
    {
      "cell_type": "code",
      "source": [
        "# 3\n",
        "# Hello Hi\n",
        "# Bye Goodbye\n",
        "# List Array\n",
        "# Goodbye"
      ],
      "metadata": {
        "id": "g4UTmIcS_5eZ"
      },
      "execution_count": null,
      "outputs": []
    },
    {
      "cell_type": "code",
      "source": [
        "# 10\n",
        "# a 1\n",
        "# b 2\n",
        "# c 3\n",
        "# d 4\n",
        "# e 5\n",
        "# f 6\n",
        "# g 7\n",
        "# h 8\n",
        "# i 9\n",
        "# j 10\n",
        "# e"
      ],
      "metadata": {
        "id": "PHqMkIMm_5k2"
      },
      "execution_count": null,
      "outputs": []
    },
    {
      "cell_type": "code",
      "source": [
        "n=int(input())\n",
        "C=dict()\n",
        "for i in range (n):\n",
        "  a=input().split()\n",
        "  C[a[0]]=a[1]\n",
        "  C[a[1]]=a[0]\n",
        "print (C[input()])"
      ],
      "metadata": {
        "id": "Z_Gv4kRLf7Bo",
        "colab": {
          "base_uri": "https://localhost:8080/"
        },
        "outputId": "57d6b653-1ff6-423c-94bd-0678f439cbb6"
      },
      "execution_count": null,
      "outputs": [
        {
          "output_type": "stream",
          "name": "stdout",
          "text": [
            "3\n",
            "Hello Hi\n",
            "List Array\n",
            "Bye Goodbye\n",
            "Goodbye\n",
            "Bye\n"
          ]
        }
      ]
    },
    {
      "cell_type": "markdown",
      "source": [
        "## Set (множество)\n",
        "\n",
        "Множество служит для хранения уникальных элементов и только их."
      ],
      "metadata": {
        "id": "8t5QPA3A94hg"
      }
    },
    {
      "cell_type": "code",
      "source": [
        "A = {1, 2, 3}\n",
        "print(A)\n",
        "#ЗАПОМНИТЕ нельзя написать A = {} для создания множества, интерпритатор поймёт это как пустой словарь\n",
        "\n",
        "A = set('123')\n",
        "print(A)"
      ],
      "metadata": {
        "id": "pKk9qU4q96sQ",
        "colab": {
          "base_uri": "https://localhost:8080/"
        },
        "outputId": "9937ed68-f83e-4426-9583-62010b3246ad"
      },
      "execution_count": null,
      "outputs": [
        {
          "output_type": "stream",
          "name": "stdout",
          "text": [
            "{1, 2, 3}\n",
            "{'3', '1', '2'}\n"
          ]
        }
      ]
    },
    {
      "cell_type": "code",
      "source": [
        "A = {1, 2, 3, 4}\n",
        "B = {1, 1, 2, 3, 4, 4}\n",
        "print(B)\n",
        "print(A)\n",
        "\n",
        "#как и вслучае со списоком, создавая множество через команду set() вы разбираете объекта на элементы\n",
        "print('1:', set('NRNU MEPhI'))\n",
        "print('2:', {'NRNU MEPhI'})"
      ],
      "metadata": {
        "id": "YHqC-zi598RC"
      },
      "execution_count": null,
      "outputs": []
    },
    {
      "cell_type": "code",
      "source": [
        "#Добавление и удаление элемента из множества\n",
        "A = {8, 2, 11, 4, 42, 6, 7}\n",
        "\n",
        "print(A, \"- вначале\", '\\n', '-'*32)\n",
        "A.add(80)\n",
        "print(A, '- add', '\\n', '-'*32)\n",
        "\n",
        "#метод .pop() \"достаёт\" первый элемент из множества\n",
        "print(A.pop(), end=' ')\n",
        "print(A, '- pop', '\\n')\n",
        "A.discard(11)\n",
        "print(A, '- discard', '\\n') #при отсутствии заданного элемента не делает ничего\n",
        "A.remove(6)\n",
        "print(A, '- remove', '\\n') #при отсутствии заданного элемента поднимаент исключение KeyError"
      ],
      "metadata": {
        "id": "CUS2t27l9-Qo"
      },
      "execution_count": null,
      "outputs": []
    },
    {
      "cell_type": "code",
      "source": [
        "A.discard(11)\n",
        "A.remove(6)"
      ],
      "metadata": {
        "id": "GZfcsnOQ9-W5",
        "colab": {
          "base_uri": "https://localhost:8080/",
          "height": 194
        },
        "outputId": "12712c9e-9174-4102-9686-18ed383e976a"
      },
      "execution_count": null,
      "outputs": [
        {
          "output_type": "error",
          "ename": "NameError",
          "evalue": "ignored",
          "traceback": [
            "\u001b[0;31m---------------------------------------------------------------------------\u001b[0m",
            "\u001b[0;31mNameError\u001b[0m                                 Traceback (most recent call last)",
            "\u001b[0;32m<ipython-input-3-2c7179f6c44f>\u001b[0m in \u001b[0;36m<cell line: 1>\u001b[0;34m()\u001b[0m\n\u001b[0;32m----> 1\u001b[0;31m \u001b[0mA\u001b[0m\u001b[0;34m.\u001b[0m\u001b[0mdiscard\u001b[0m\u001b[0;34m(\u001b[0m\u001b[0;36m11\u001b[0m\u001b[0;34m)\u001b[0m\u001b[0;34m\u001b[0m\u001b[0;34m\u001b[0m\u001b[0m\n\u001b[0m\u001b[1;32m      2\u001b[0m \u001b[0mA\u001b[0m\u001b[0;34m.\u001b[0m\u001b[0mremove\u001b[0m\u001b[0;34m(\u001b[0m\u001b[0;36m6\u001b[0m\u001b[0;34m)\u001b[0m\u001b[0;34m\u001b[0m\u001b[0;34m\u001b[0m\u001b[0m\n",
            "\u001b[0;31mNameError\u001b[0m: name 'A' is not defined"
          ]
        }
      ]
    },
    {
      "cell_type": "markdown",
      "source": [
        "Вообще, многие стандартные методы работают достаточно странно для непривычного к этому прогаммиста, помните об этом и будьте внимательны!"
      ],
      "metadata": {
        "id": "Vx7KF-0I-DRH"
      }
    },
    {
      "cell_type": "code",
      "source": [
        "set1 = {1, 2, 3}\n",
        "set2 = set1.add(4)\n",
        "\n",
        "print(set2)\n",
        "print(set1)"
      ],
      "metadata": {
        "id": "TB4PP48y-DgB",
        "colab": {
          "base_uri": "https://localhost:8080/"
        },
        "outputId": "0ed83839-0611-480a-bacd-da6eede0d216"
      },
      "execution_count": null,
      "outputs": [
        {
          "output_type": "stream",
          "name": "stdout",
          "text": [
            "None\n",
            "{1, 2, 3, 4}\n"
          ]
        }
      ]
    },
    {
      "cell_type": "markdown",
      "source": [
        "### Задача 4. Различные числа"
      ],
      "metadata": {
        "id": "eZLFW8IdgBl3"
      }
    },
    {
      "cell_type": "markdown",
      "source": [
        "\n",
        "\n",
        "Условие\n",
        "Дан список чисел. Определите, сколько в нем встречается различных чисел.\n",
        "\n",
        "Примечание. Эту задачу на Питоне можно решить в одну строчку."
      ],
      "metadata": {
        "id": "eJq2uA8EAVMY"
      }
    },
    {
      "cell_type": "code",
      "source": [
        "a=list(input())\n",
        "print (len(set(a))-1)"
      ],
      "metadata": {
        "id": "xIK-ohKOAXeP",
        "colab": {
          "base_uri": "https://localhost:8080/"
        },
        "outputId": "fa75b2ad-b2e0-4d86-f86a-b5fe7a89a02d"
      },
      "execution_count": null,
      "outputs": [
        {
          "output_type": "stream",
          "name": "stdout",
          "text": [
            "1 2 3 4 2 3 4 \n",
            "4\n"
          ]
        }
      ]
    },
    {
      "cell_type": "markdown",
      "source": [
        "## Перевод из типа в тип\n",
        "\n",
        "Для перевода из типа в тип можно использовать специальные методы-конструкторы типа, которые можно вызвать по их названию.  \n",
        "\n",
        "Обратите внимание, что операция приведения типа не транзитивна.  \n",
        "\n",
        "Команды, `list()`, `set()`, которые мы использовали раннее по сути являются операциями приведения типов. Они создают новый объект заданного типа, используя конструктор того типа, который нам нужен."
      ],
      "metadata": {
        "id": "yc7tEyI2-H4I"
      }
    },
    {
      "cell_type": "code",
      "source": [
        "a = '6'\n",
        "print(a)\n",
        "print(type(a))\n",
        "a = int(a)\n",
        "print(a)\n",
        "print(type(a))\n",
        "a = float(a)\n",
        "print(float(a))\n",
        "print(type(a))\n",
        "\n",
        "print('*'*32)\n",
        "c = 5.5\n",
        "print(c)\n",
        "print(type(c))\n",
        "c = int(c)\n",
        "print(c)\n",
        "print(type(c))\n",
        "c = str(c)\n",
        "print(c)\n",
        "print(type(c))\n",
        "\n",
        "\n",
        "print('*'*32)\n",
        "b = 5.5\n",
        "print(b)\n",
        "print(type(b))\n",
        "# b = str(b)\n",
        "print(b)\n",
        "print(type(b))\n",
        "#здесь ошибка, из строки 5.5 нельзя сделать int\n",
        "b = int(b)\n",
        "print(b)\n",
        "print(type(b))"
      ],
      "metadata": {
        "id": "NgFhLi18-Ixb"
      },
      "execution_count": null,
      "outputs": []
    },
    {
      "cell_type": "markdown",
      "source": [
        "# Арифметические операции\n",
        "\n",
        "Арифистические операции, применяемые к стандартным типам данных выглядят стандартно. Однако, у языка Python большие сложности с работой с числами с плавающей запятой.\n",
        "\n",
        "При использовании стандартных библиотек необходимо строго стараться минимизировать колчичество вычислений с плавающей запятой."
      ],
      "metadata": {
        "id": "FU5DULvX-KSn"
      }
    },
    {
      "cell_type": "code",
      "source": [
        "a = 5\n",
        "b = 4\n",
        "print('+', a+b)\n",
        "print('*', a*b)\n",
        "print('/', a/b)\n",
        "print('-', a-b)\n",
        "print('// - целочисленное деление:', (a*2)//b)\n",
        "print('% - остаток от деления:', a%b)"
      ],
      "metadata": {
        "id": "IguxX74D-NP3"
      },
      "execution_count": null,
      "outputs": []
    },
    {
      "cell_type": "code",
      "source": [
        "print(f'0.1+0.1 = {0.1+0.1}')\n",
        "print(f'0.1+0.1+0.1 = {0.1+0.1+0.1}')\n",
        "print(f'0.1*3 = {0.1*3}')"
      ],
      "metadata": {
        "id": "YGLN-iJz-P3M"
      },
      "execution_count": null,
      "outputs": []
    },
    {
      "cell_type": "code",
      "source": [
        "a = 5\n",
        "print(a)\n",
        "a = a**(1/2)\n",
        "print(a)\n",
        "a = a**2\n",
        "print(a)"
      ],
      "metadata": {
        "id": "NTzZFwhQ-R0n"
      },
      "execution_count": null,
      "outputs": []
    },
    {
      "cell_type": "markdown",
      "source": [
        "#### Арифметика со списками\n",
        "\n",
        "Для списков тоже можно использовать арифметические операции, но они будут совершенно по иному работать.\n",
        "\n",
        "Аналогично и для строк."
      ],
      "metadata": {
        "id": "staEnxq--UGQ"
      }
    },
    {
      "cell_type": "code",
      "source": [
        "arr = [1, 2, 3, 4] + [5, 6, 7, 8, 9]\n",
        "print('4:', arr)\n",
        "\n",
        "arr = [1, 2, 3, 4] * 4\n",
        "print('5:', arr)"
      ],
      "metadata": {
        "id": "kMAjzz9A-Vw9"
      },
      "execution_count": null,
      "outputs": []
    },
    {
      "cell_type": "markdown",
      "metadata": {
        "id": "weTl5RMQKjR2"
      },
      "source": [
        "# Основы языка Python"
      ]
    },
    {
      "cell_type": "markdown",
      "source": [
        "## Условия\n",
        "\n",
        "Использование условий в языке python похоже на любой другой язык.\n",
        "\n",
        "```\n",
        "if (условие):\n",
        "____код\n",
        "elif (условие):\n",
        "____код\n",
        "else:\n",
        "____кода\n",
        "```\n",
        "Или\n",
        "```\n",
        "if (условие):\n",
        "____код\n",
        "else:\n",
        "____кода\n",
        "```\n",
        "Или\n",
        "```\n",
        "if (условие):\n",
        "____код\n",
        "```\n",
        "\n",
        "Обратите внимание, на необходимость использования отступов для корректной интерпретации кода.\n",
        "\n",
        "**В отличии от других языков, отступы в Python необходимы для корректного исполнения кода.**"
      ],
      "metadata": {
        "id": "OPIkClO7-dyb"
      }
    },
    {
      "cell_type": "code",
      "source": [
        "x = input()"
      ],
      "metadata": {
        "id": "T93lxkjb-eT8"
      },
      "execution_count": null,
      "outputs": []
    },
    {
      "cell_type": "code",
      "source": [
        "x = int(input())\n",
        "\n",
        "if x > 0:\n",
        "    print('Положительная зона')\n",
        "    print(x)\n",
        "else:\n",
        "    print('Неположительная зона')\n",
        "    print(-x)"
      ],
      "metadata": {
        "id": "U0DTQX7E-ebQ"
      },
      "execution_count": null,
      "outputs": []
    },
    {
      "cell_type": "markdown",
      "source": [
        "Для формирования сложных условий можно использовать логические операции и различные операторы сравнения.\n",
        "\n",
        "Операторы сравнения:  \n",
        "`<` Меньше — условие верно, если первый операнд меньше второго.  \n",
        "`>` Больше — условие верно, если первый операнд больше второго.  \n",
        "`<=` Меньше или равно.  \n",
        "`>=` Больше или равно.\n",
        "`==` Равенство. Условие верно, если два операнда равны.  \n",
        "`!=` Неравенство. Условие верно, если два операнда неравны.  \n",
        "`a <= x <= b` - x находится в интервале от a до b.\n",
        "\n",
        "Логические операции:  \n",
        "`and` - логическое \"И\"  \n",
        "`or` - логическое \"Или\"  \n",
        "`not` - логическое \"Отрицание\""
      ],
      "metadata": {
        "id": "beiuF2gR-i0f"
      }
    },
    {
      "cell_type": "code",
      "source": [
        "a = int(input())\n",
        "b = int(input())\n",
        "x = int(input())\n",
        "if a <= x <= b and x > 0:\n",
        "    print('YES')\n",
        "else:\n",
        "    print('No')\n",
        "print('NO')"
      ],
      "metadata": {
        "id": "nff1q-J_-mQe"
      },
      "execution_count": null,
      "outputs": []
    },
    {
      "cell_type": "markdown",
      "source": [
        "Для проверки наличия элементов в спиcке используется операция\n",
        "\n",
        "```\n",
        "in\n",
        "```\n",
        "\n"
      ],
      "metadata": {
        "id": "0rC4P318-oJC"
      }
    },
    {
      "cell_type": "code",
      "source": [
        "A = [1, 2, 3, 4, 5, 6, 7, 8]\n",
        "b = int(input())\n",
        "\n",
        "if b in A:\n",
        "  print('yes')\n",
        "else:\n",
        "  print('no')"
      ],
      "metadata": {
        "id": "RWqaHQir-oXS"
      },
      "execution_count": null,
      "outputs": []
    },
    {
      "cell_type": "markdown",
      "source": [
        "## Генераторы списокв\n",
        "\n",
        "Генераторы список - удобный способ создания списоков в Python. В его основе хоть и лежат циклы, но для использовани генераторов глубокого понимания циклов не нужно.\n"
      ],
      "metadata": {
        "id": "Jl1a0dqq-rAy"
      }
    },
    {
      "cell_type": "markdown",
      "source": [
        "Вывести список всех кубов ряда от 0 до 6.\n",
        "\n"
      ],
      "metadata": {
        "id": "yZFNubRB-tgq"
      }
    },
    {
      "cell_type": "code",
      "source": [
        "example = [0, 1, 2, 3, 4, 5, 6]\n",
        "qubes = [i ** 3 for i in example]\n",
        "print(*qubes, '- кубы')"
      ],
      "metadata": {
        "id": "G1QXIlQo-t7u"
      },
      "execution_count": null,
      "outputs": []
    },
    {
      "cell_type": "markdown",
      "source": [
        "Вывести список из i элементов равных i в ряду четных цифр от 1 до 7"
      ],
      "metadata": {
        "id": "BPj_1gTG-vmy"
      }
    },
    {
      "cell_type": "code",
      "source": [
        "ex = [1, 2, 3, 4, 5, 6, 7]\n",
        "arr = [[i]*i for i in ex if i % 2 == 0]\n",
        "print(arr)\n",
        "print(len(arr))"
      ],
      "metadata": {
        "id": "vU7vIVzd-xAQ"
      },
      "execution_count": null,
      "outputs": []
    },
    {
      "cell_type": "code",
      "source": [
        "ex = [2, 3, 4, 5, 6, 5, 4, 3, 2, 3, 4, 5, 6]\n",
        "arr = [i ** 2 if i % 2 == 0 else i ** 3 for i in ex]\n",
        "print(*arr)"
      ],
      "metadata": {
        "id": "J4dRsb5P-0mX",
        "colab": {
          "base_uri": "https://localhost:8080/"
        },
        "outputId": "62b82582-cf0d-4513-b050-8e5e2ba55773"
      },
      "execution_count": null,
      "outputs": [
        {
          "output_type": "stream",
          "name": "stdout",
          "text": [
            "4 27 16 125 36 125 16 27 4 27 16 125 36\n"
          ]
        }
      ]
    },
    {
      "cell_type": "markdown",
      "source": [
        "### Задача 5. Генераторы списков"
      ],
      "metadata": {
        "id": "JY-3KDXdghHE"
      }
    },
    {
      "cell_type": "markdown",
      "source": [
        "Дан список из 20 случайных чисел. Переписать его элементы в новый список\n",
        "следующим образом: сначала все четные, затем все нечетные."
      ],
      "metadata": {
        "id": "ZS048lQwgldx"
      }
    },
    {
      "cell_type": "code",
      "source": [
        "a=list(input())\n",
        "x=[i for i in a if i%2==0]+[i for i in a if i%2!=0]\n",
        "print (x)\n"
      ],
      "metadata": {
        "id": "I3fyR6qrgl7b",
        "colab": {
          "base_uri": "https://localhost:8080/",
          "height": 314
        },
        "outputId": "f7d0c1ea-98c8-4dec-b3ed-80b9df89379c"
      },
      "execution_count": null,
      "outputs": [
        {
          "name": "stdout",
          "output_type": "stream",
          "text": [
            "1 2 3 4\n"
          ]
        },
        {
          "output_type": "error",
          "ename": "TypeError",
          "evalue": "ignored",
          "traceback": [
            "\u001b[0;31m---------------------------------------------------------------------------\u001b[0m",
            "\u001b[0;31mTypeError\u001b[0m                                 Traceback (most recent call last)",
            "\u001b[0;32m<ipython-input-59-3c6fd0078a4b>\u001b[0m in \u001b[0;36m<cell line: 2>\u001b[0;34m()\u001b[0m\n\u001b[1;32m      1\u001b[0m \u001b[0ma\u001b[0m\u001b[0;34m=\u001b[0m\u001b[0mlist\u001b[0m\u001b[0;34m(\u001b[0m\u001b[0minput\u001b[0m\u001b[0;34m(\u001b[0m\u001b[0;34m)\u001b[0m\u001b[0;34m)\u001b[0m\u001b[0;34m\u001b[0m\u001b[0;34m\u001b[0m\u001b[0m\n\u001b[0;32m----> 2\u001b[0;31m \u001b[0mx\u001b[0m\u001b[0;34m=\u001b[0m\u001b[0;34m[\u001b[0m\u001b[0mi\u001b[0m \u001b[0;32mfor\u001b[0m \u001b[0mi\u001b[0m \u001b[0;32min\u001b[0m \u001b[0ma\u001b[0m \u001b[0;32mif\u001b[0m \u001b[0mi\u001b[0m\u001b[0;34m%\u001b[0m\u001b[0;36m2\u001b[0m\u001b[0;34m==\u001b[0m\u001b[0;36m0\u001b[0m\u001b[0;34m]\u001b[0m\u001b[0;34m+\u001b[0m\u001b[0;34m[\u001b[0m\u001b[0mi\u001b[0m \u001b[0;32mfor\u001b[0m \u001b[0mi\u001b[0m \u001b[0;32min\u001b[0m \u001b[0ma\u001b[0m \u001b[0;32mif\u001b[0m \u001b[0mi\u001b[0m\u001b[0;34m%\u001b[0m\u001b[0;36m2\u001b[0m\u001b[0;34m!=\u001b[0m\u001b[0;36m0\u001b[0m\u001b[0;34m]\u001b[0m\u001b[0;34m\u001b[0m\u001b[0;34m\u001b[0m\u001b[0m\n\u001b[0m\u001b[1;32m      3\u001b[0m \u001b[0mprint\u001b[0m \u001b[0;34m(\u001b[0m\u001b[0mx\u001b[0m\u001b[0;34m)\u001b[0m\u001b[0;34m\u001b[0m\u001b[0;34m\u001b[0m\u001b[0m\n",
            "\u001b[0;32m<ipython-input-59-3c6fd0078a4b>\u001b[0m in \u001b[0;36m<listcomp>\u001b[0;34m(.0)\u001b[0m\n\u001b[1;32m      1\u001b[0m \u001b[0ma\u001b[0m\u001b[0;34m=\u001b[0m\u001b[0mlist\u001b[0m\u001b[0;34m(\u001b[0m\u001b[0minput\u001b[0m\u001b[0;34m(\u001b[0m\u001b[0;34m)\u001b[0m\u001b[0;34m)\u001b[0m\u001b[0;34m\u001b[0m\u001b[0;34m\u001b[0m\u001b[0m\n\u001b[0;32m----> 2\u001b[0;31m \u001b[0mx\u001b[0m\u001b[0;34m=\u001b[0m\u001b[0;34m[\u001b[0m\u001b[0mi\u001b[0m \u001b[0;32mfor\u001b[0m \u001b[0mi\u001b[0m \u001b[0;32min\u001b[0m \u001b[0ma\u001b[0m \u001b[0;32mif\u001b[0m \u001b[0mi\u001b[0m\u001b[0;34m%\u001b[0m\u001b[0;36m2\u001b[0m\u001b[0;34m==\u001b[0m\u001b[0;36m0\u001b[0m\u001b[0;34m]\u001b[0m\u001b[0;34m+\u001b[0m\u001b[0;34m[\u001b[0m\u001b[0mi\u001b[0m \u001b[0;32mfor\u001b[0m \u001b[0mi\u001b[0m \u001b[0;32min\u001b[0m \u001b[0ma\u001b[0m \u001b[0;32mif\u001b[0m \u001b[0mi\u001b[0m\u001b[0;34m%\u001b[0m\u001b[0;36m2\u001b[0m\u001b[0;34m!=\u001b[0m\u001b[0;36m0\u001b[0m\u001b[0;34m]\u001b[0m\u001b[0;34m\u001b[0m\u001b[0;34m\u001b[0m\u001b[0m\n\u001b[0m\u001b[1;32m      3\u001b[0m \u001b[0mprint\u001b[0m \u001b[0;34m(\u001b[0m\u001b[0mx\u001b[0m\u001b[0;34m)\u001b[0m\u001b[0;34m\u001b[0m\u001b[0;34m\u001b[0m\u001b[0m\n",
            "\u001b[0;31mTypeError\u001b[0m: not all arguments converted during string formatting"
          ]
        }
      ]
    },
    {
      "cell_type": "markdown",
      "metadata": {
        "id": "FRSOipZYKpq2"
      },
      "source": [
        "## Функции"
      ]
    },
    {
      "cell_type": "markdown",
      "metadata": {
        "id": "2YhyY9PcrXUs"
      },
      "source": [
        "**Функция** - это блок организованного, многократно используемоего кода, который используется для выполнения конкретного задания.  Функции в Python - объект, который принимает аргументы, производит обработку данных, возвращает значение. Функция может принимать произвольное количество аргументов.\n",
        "\n",
        "Они все обладают общим свойством: они могут принимать параметры (ноль, один или несколько), и они могут возвращать значение (хотя могут и не возвращать)."
      ]
    },
    {
      "cell_type": "markdown",
      "metadata": {
        "id": "ygv9bP7GY6lf"
      },
      "source": [
        "### Встроенный функции языка Python"
      ]
    },
    {
      "cell_type": "markdown",
      "metadata": {
        "id": "7Xj1UJbPZCbu"
      },
      "source": [
        "Язык Python включает много уже определенных, то есть встроенных в него, функций."
      ]
    },
    {
      "cell_type": "markdown",
      "metadata": {
        "id": "6qyxenx0aT1c"
      },
      "source": [
        "**int()** - преобразование к целому числу."
      ]
    },
    {
      "cell_type": "code",
      "metadata": {
        "id": "9gfKv5TUabKH"
      },
      "source": [
        "int('3') # преобразование из типа str в тип int"
      ],
      "execution_count": null,
      "outputs": []
    },
    {
      "cell_type": "markdown",
      "metadata": {
        "id": "mioeQ8-KaFiD"
      },
      "source": [
        "**float()** - преобразование к числу с плавающей точкой. Если аргумент не указан, возвращается 0.0."
      ]
    },
    {
      "cell_type": "code",
      "metadata": {
        "id": "xpUWGGwzZ_JA"
      },
      "source": [
        "float('3.5') # преобразование из типа str в тип float"
      ],
      "execution_count": null,
      "outputs": []
    },
    {
      "cell_type": "markdown",
      "metadata": {
        "id": "5nHPtDuBaJ8e"
      },
      "source": [
        "**str()** - строковое представление объекта."
      ]
    },
    {
      "cell_type": "code",
      "metadata": {
        "id": "IAUAqn3van7y"
      },
      "source": [
        "str(123) # преобразование из типа int в тип str"
      ],
      "execution_count": null,
      "outputs": []
    },
    {
      "cell_type": "markdown",
      "metadata": {
        "id": "cE9HrxqMa9k8"
      },
      "source": [
        "**input()** - Возвращает введенную пользователем с консоли строку."
      ]
    },
    {
      "cell_type": "code",
      "metadata": {
        "id": "3pjUZmh1bGGt"
      },
      "source": [
        "x = input() # функция попросит пользователя ввести с клавиатуры и вернет это значение в x (тип возвращаемого значения str)\n",
        "type(x)\n",
        "\n",
        "x = int(input()) # преобразование введенного с клавиатуры числа в тип str"
      ],
      "execution_count": null,
      "outputs": []
    },
    {
      "cell_type": "markdown",
      "metadata": {
        "id": "u4R6xo0KckJ_"
      },
      "source": [
        "**len()** - Возвращает число элементов в указанном объекте."
      ]
    },
    {
      "cell_type": "code",
      "metadata": {
        "id": "WaNIbX8OcoRB",
        "colab": {
          "base_uri": "https://localhost:8080/"
        },
        "outputId": "43e00d3e-598b-47d3-8908-86db07cc7f52"
      },
      "source": [
        "x = [5, 7, 8, 2, 5]\n",
        "len(x) # вернет значение 5 (5 элементов в списке)\n",
        "\n",
        "s = 'Hello'\n",
        "len(s) ## вернет значение 5 (5 букв в слове)"
      ],
      "execution_count": null,
      "outputs": [
        {
          "output_type": "execute_result",
          "data": {
            "text/plain": [
              "5"
            ]
          },
          "metadata": {},
          "execution_count": 2
        }
      ]
    },
    {
      "cell_type": "markdown",
      "metadata": {
        "id": "Binaz_-wcJJ_"
      },
      "source": [
        "**max()** - функция используется для нахождения «максимального» значения в последовательности, итерируемом объекте и так далее. В параметрах можно менять способ вычисления максимального значения.\n",
        "\n",
        "**min()** - функция используется для нахождения «минимального» значения в последовательности, итерируемом объекте и так далее. В параметрах можно менять способ вычисления минимального значения."
      ]
    },
    {
      "cell_type": "code",
      "metadata": {
        "id": "8Ex0jX-8cVjW",
        "colab": {
          "base_uri": "https://localhost:8080/",
          "height": 35
        },
        "outputId": "2d6fb527-7389-4aad-bdb8-d323676e80a0"
      },
      "source": [
        "x = [5, 7, 8, 2, 5]\n",
        "max(x) # вернет значение 8\n",
        "min(x) # вернет значение 2\n",
        "\n",
        "x = [\"Яблоко\", \"Апельсин\", \"Автомобиль\"]\n",
        "max(x, key = len) # считает самое длинное слово (по длинне) - вернет \"Автомобиль\"\n",
        "#max(x) # вернет \"Яблоко\" (сравнение слов будет по лексиграфическому признаку)"
      ],
      "execution_count": null,
      "outputs": [
        {
          "output_type": "execute_result",
          "data": {
            "text/plain": [
              "'Яблоко'"
            ],
            "application/vnd.google.colaboratory.intrinsic+json": {
              "type": "string"
            }
          },
          "metadata": {},
          "execution_count": 4
        }
      ]
    },
    {
      "cell_type": "markdown",
      "metadata": {
        "id": "fileSDyZf4yX"
      },
      "source": [
        "**reversed()** - функция предоставляет простой и быстрый способ развернуть порядок элементов в последовательности. В качестве параметра она принимает валидную последовательность, например список, а возвращает итерируемый объект."
      ]
    },
    {
      "cell_type": "code",
      "metadata": {
        "id": "Hy4SdQ57fxIS",
        "colab": {
          "base_uri": "https://localhost:8080/"
        },
        "outputId": "94819239-a96f-4a54-dba9-e6e715307080"
      },
      "source": [
        "x = [3,4,5]\n",
        "b = reversed(x)\n",
        "list(b)\n",
        "x[::-1]"
      ],
      "execution_count": null,
      "outputs": [
        {
          "output_type": "execute_result",
          "data": {
            "text/plain": [
              "[5, 4, 3]"
            ]
          },
          "metadata": {},
          "execution_count": 8
        }
      ]
    },
    {
      "cell_type": "markdown",
      "metadata": {
        "id": "80_ucrkmgjUB"
      },
      "source": [
        "**set()** - создает множество. Обычно в качестве аргументов функция принимает последовательность, например строка или список, которая затем преобразуется в множество уникальных значений."
      ]
    },
    {
      "cell_type": "code",
      "metadata": {
        "id": "PLQLkcJ6hJps",
        "colab": {
          "base_uri": "https://localhost:8080/"
        },
        "outputId": "e9a655ff-e126-4ed9-8403-1ac92748fd41"
      },
      "source": [
        "set(\"Hello\")\n",
        "# {'e', 'l', 'o', 'H'}\n",
        "\n",
        "set((1,1,1,2,2,3,4,5))\n",
        "# {1, 2, 3, 4, 5}"
      ],
      "execution_count": null,
      "outputs": [
        {
          "output_type": "execute_result",
          "data": {
            "text/plain": [
              "{1, 2, 3, 4, 5}"
            ]
          },
          "metadata": {},
          "execution_count": 9
        }
      ]
    },
    {
      "cell_type": "markdown",
      "metadata": {
        "id": "H40Vw28ogQDB"
      },
      "source": [
        "**range()** - Используется для создания последовательности чисел с заданными значениями от и до, а также интервалом. Такая последовательность часто используется в циклах, особенно в цикле for."
      ]
    },
    {
      "cell_type": "code",
      "metadata": {
        "id": "yeSQteH3gayV",
        "colab": {
          "base_uri": "https://localhost:8080/"
        },
        "outputId": "5c0e5077-2326-494b-81f0-fc98a1ea63fa"
      },
      "source": [
        "# range(start, stop, step)\n",
        "print(list(range(10,20,2)))\n",
        "# вернет список [10, 12, 14, 16, 18]\n",
        "range(10,20,2)"
      ],
      "execution_count": null,
      "outputs": [
        {
          "output_type": "stream",
          "name": "stdout",
          "text": [
            "[10, 12, 14, 16, 18]\n"
          ]
        },
        {
          "output_type": "execute_result",
          "data": {
            "text/plain": [
              "range(10, 20, 2)"
            ]
          },
          "metadata": {},
          "execution_count": 11
        }
      ]
    },
    {
      "cell_type": "markdown",
      "metadata": {
        "id": "wsz8Tm4bhZeA"
      },
      "source": [
        "**enumerate()** - В качестве параметра эта функция принимает последовательность. После этого она перебирает каждый элемент и возвращает его вместе со счетчиком в виде перечисляемого объекта. Основная особенность таких объектов — возможность размещать их в цикле для перебора.\n",
        "\n",
        "Если range() позволяет получить только индексы элементов списка, то enumerate() – сразу индекс элемента и его значение.\n"
      ]
    },
    {
      "cell_type": "code",
      "metadata": {
        "id": "j8yNAwpIhkR4",
        "colab": {
          "base_uri": "https://localhost:8080/"
        },
        "outputId": "85c7f93e-a376-4acd-841d-3b766441dd26"
      },
      "source": [
        "x = \"Строка\"\n",
        "print(list(enumerate(x)))\n",
        "# [(0, 'С'), (1, 'т'), (2, 'р'), (3, 'о'), (4, 'к'), (5, 'а')]"
      ],
      "execution_count": null,
      "outputs": [
        {
          "output_type": "stream",
          "name": "stdout",
          "text": [
            "[(0, 'С'), (1, 'т'), (2, 'р'), (3, 'о'), (4, 'к'), (5, 'а')]\n"
          ]
        }
      ]
    },
    {
      "cell_type": "markdown",
      "metadata": {
        "id": "YUEn4J-GZDjK"
      },
      "source": [
        "###Определение собственных функций"
      ]
    },
    {
      "cell_type": "markdown",
      "metadata": {
        "id": "8C7LFa2hNCdx"
      },
      "source": [
        "Также в Python можно определить свою функцию.\n",
        "Функция определяется с помощью инструкции **def**.\n",
        "\n",
        "Существуют некоторые правила для создания функций в Python.\n",
        "\n",
        "- Блок функции начинается с ключевого слова def, после которого следуют название функции и круглые скобки ().\n",
        "- Любые аргументы, которые принимает функция должны находиться внутри этих скобок.\n",
        "- После скобок идет двоеточие ( : ) и с новой строки с отступом начинается тело функции.\n",
        "\n",
        "Выражение **return** прекращает выполнение функции и возвращает указанное после выражения значение. Выражение return без аргументов это то же самое, что и выражение return None.\n",
        "```\n",
        "def <Название функции>(параметр1, параметр2, ...):\n",
        "    --код--\n",
        "    return параметр1 + параметр2\n",
        "```\n",
        "\n",
        "Например, определим простейщую функцию, которая принимает в качестве аргументов два числа и возвращает их сумму."
      ]
    },
    {
      "cell_type": "markdown",
      "metadata": {
        "id": "hVw9OXgkV8RD"
      },
      "source": [
        "- аргумент (фактический параметр): фактическая переменная передается в функцию;\n",
        "- параметр (формальный параметр): принимающая переменная, которая используется в функции."
      ]
    },
    {
      "cell_type": "code",
      "metadata": {
        "id": "Kts9fiLsNk1o"
      },
      "source": [
        "# x, y - это параметры функции\n",
        "# функция возвращает значение переменной s\n",
        "def summa(x, y):\n",
        "    s = x + y\n",
        "    return s, x, y"
      ],
      "execution_count": null,
      "outputs": []
    },
    {
      "cell_type": "code",
      "metadata": {
        "id": "lWHqFwbcOjCp"
      },
      "source": [
        "# x, y - это параметры функции\n",
        "# данная функция ничего не возвращает, но выводит на экран сумму двух чисед\n",
        "def summa(x, y):\n",
        "    s = x + y\n",
        "    print(s)"
      ],
      "execution_count": null,
      "outputs": []
    },
    {
      "cell_type": "markdown",
      "metadata": {
        "id": "59rbbtB_PsJk"
      },
      "source": [
        "После создания функции, ее можно исполнять вызывая из другой функции или напрямую из оболочки Python. Для вызова функции следует ввести ее имя и добавить скобки."
      ]
    },
    {
      "cell_type": "code",
      "metadata": {
        "id": "JvgSUuSkNyAJ",
        "colab": {
          "base_uri": "https://localhost:8080/"
        },
        "outputId": "dbbad9d5-c131-4107-8f4f-29877bfaa68a"
      },
      "source": [
        "# Для того, чтобы использовать функцию ее необходимо вызвать и передать ей необходимые аргументы\n",
        "r, x, y = summa(4,5) # функция вернет сумму двух чисел 4 и 5 (4, 5 - это аргументы функции)\n",
        "print(r, x, y)\n",
        "a = 1\n",
        "b = 3\n",
        "summa(a,b) # функция вернет сумму двух чисел a и b (a, b - это аргументы функции)"
      ],
      "execution_count": null,
      "outputs": [
        {
          "output_type": "stream",
          "name": "stdout",
          "text": [
            "9 4 5\n"
          ]
        },
        {
          "output_type": "execute_result",
          "data": {
            "text/plain": [
              "(4, 1, 3)"
            ]
          },
          "metadata": {},
          "execution_count": 18
        }
      ]
    },
    {
      "cell_type": "markdown",
      "metadata": {
        "id": "S79p5n4KXIpL"
      },
      "source": [
        "Также функции могут принимать любые типы аргументов как числове, так и строковые, списки, словари и так далее."
      ]
    },
    {
      "cell_type": "code",
      "metadata": {
        "id": "QKROqtfqXQCk",
        "colab": {
          "base_uri": "https://localhost:8080/"
        },
        "outputId": "6108839a-a097-4296-de6d-843d3276f1c0"
      },
      "source": [
        "# функция, которая в качестве парамента принимает список\n",
        "# и возвращает сумму его элементов\n",
        "def summa_spiska(lst):\n",
        "    s = 0\n",
        "    for i in lst:\n",
        "        s += i\n",
        "    return s\n",
        "\n",
        "spisok = [1,2,3,4,5]\n",
        "summa_spiska(spisok)\n",
        "\n",
        "summa_spiska([1,9,10])"
      ],
      "execution_count": null,
      "outputs": [
        {
          "output_type": "execute_result",
          "data": {
            "text/plain": [
              "20"
            ]
          },
          "metadata": {},
          "execution_count": 19
        }
      ]
    },
    {
      "cell_type": "markdown",
      "source": [
        "### Лямбда-функции"
      ],
      "metadata": {
        "id": "gvmdbY-0gN7Y"
      }
    },
    {
      "cell_type": "markdown",
      "source": [
        "В языке Python могут быть определены анонимные функции, которые чаще называют \"лямбда\" функциями. По существу - лямбда-функция - это объект, с которым также можно работать."
      ],
      "metadata": {
        "id": "_135NXnSgP2v"
      }
    },
    {
      "cell_type": "code",
      "source": [
        "plus1 = lambda x: x+1\n",
        "print(plus1 (1))"
      ],
      "metadata": {
        "colab": {
          "base_uri": "https://localhost:8080/"
        },
        "id": "zYDdiSR9guPR",
        "outputId": "01001c32-cd12-4fd1-fef0-dee246b8eaed"
      },
      "execution_count": null,
      "outputs": [
        {
          "output_type": "stream",
          "name": "stdout",
          "text": [
            "2\n"
          ]
        }
      ]
    },
    {
      "cell_type": "markdown",
      "source": [
        "Существуют простые ограничения на работу лямбда функции: вы можете передать сколько угодно входных переменных, но на выходе получите результат только одного выражения, которое с ними работает. \\\\\n",
        "Основное, для чего используются лямбда-функции, это размещение функций там, где они непосредственно нужны, в качестве аргументов высшестоящих функций."
      ],
      "metadata": {
        "id": "thdUova6g9RR"
      }
    },
    {
      "cell_type": "code",
      "source": [
        "spisok = [1, 2, 3, 4, 5, 6, 7]\n",
        "new_spisok = list(filter(lambda x: (x%2 == 0) , spisok))\n",
        "print(new_spisok)"
      ],
      "metadata": {
        "colab": {
          "base_uri": "https://localhost:8080/"
        },
        "id": "lpNzlzffh5Tz",
        "outputId": "d74ae08c-521e-46ce-9eef-e3969025bea1"
      },
      "execution_count": null,
      "outputs": [
        {
          "output_type": "stream",
          "name": "stdout",
          "text": [
            "[2, 4, 6]\n"
          ]
        }
      ]
    },
    {
      "cell_type": "code",
      "source": [
        "spisok = [1, 2, 3, 4, 5, 6, 7]\n",
        "new_spisok = list(map(lambda x: x*2 , spisok))\n",
        "print(new_spisok)"
      ],
      "metadata": {
        "colab": {
          "base_uri": "https://localhost:8080/"
        },
        "id": "HB8XKfLmiMy1",
        "outputId": "1d911581-e124-4dc7-e3b8-acddc42a9c48"
      },
      "execution_count": null,
      "outputs": [
        {
          "output_type": "stream",
          "name": "stdout",
          "text": [
            "[2, 4, 6, 8, 10, 12, 14]\n"
          ]
        }
      ]
    },
    {
      "cell_type": "markdown",
      "metadata": {
        "id": "qtexnqWjip0Q"
      },
      "source": [
        "##Циклы for и while"
      ]
    },
    {
      "cell_type": "markdown",
      "metadata": {
        "id": "wNjUMIYSiUfi"
      },
      "source": [
        "Циклы python — for и while представляют собой операторы языка программирования, то есть операторы итерации, которые позволяют повторять код определенное количество раз."
      ]
    },
    {
      "cell_type": "markdown",
      "metadata": {
        "id": "Cp8YA_JUk16a"
      },
      "source": [
        "###Синтаксис цикла `For`\n",
        "\n"
      ]
    },
    {
      "cell_type": "markdown",
      "metadata": {
        "id": "oB8P5lyIrPkh"
      },
      "source": [
        "Как уже упоминалось ранее, цикл for в Python является итератором, основанным на цикле. Он проходит по элементам list и tuple, строкам, ключам словаря и другим итерируемым объектам.\n",
        "\n",
        "В Python цикл начинается с ключевого слова for, за которым следует произвольное имя переменной, которое будет хранить значения следующего объекта последовательности. Общий синтаксис for...in в python выглядит следующим образом:\n",
        "\n",
        "```\n",
        "for <переменная> in <последовательность>:\n",
        "    <действие>\n",
        "else:\n",
        "    <действие>\n",
        "```\n",
        "\n",
        "Элементы «последовательности» перебираются один за другим «переменной» цикла; если быть точным, переменная указывает на элементы. Для каждого элемента выполняется «действие»."
      ]
    },
    {
      "cell_type": "code",
      "metadata": {
        "id": "VDZGItKTlGJ7",
        "colab": {
          "base_uri": "https://localhost:8080/"
        },
        "outputId": "a6914fd4-109f-4965-8257-f3682fd30713"
      },
      "source": [
        "lst = [1,3,6,1,9]\n",
        "# к каждому элементу списка необходимо добавить число 1\n",
        "for i in lst:\n",
        "    # в переменной i лежит значение элемента списка\n",
        "    i += 1\n",
        "\n",
        "print(lst)\n",
        "\n",
        "for i in range(len(lst)):\n",
        "    # в данном случае в переменной i лежат индексы элементов списка\n",
        "    lst[i] += 1\n",
        "\n",
        "print(lst)\n",
        "\n",
        "for index, value in enumerate(lst):\n",
        "    # в данном случае в переменной index лежат индексы элементов списка\n",
        "    # в переменной value значение элемента списка\n",
        "    print(index, value)\n",
        "    value += 1\n",
        "\n",
        "print(lst)"
      ],
      "execution_count": null,
      "outputs": [
        {
          "output_type": "stream",
          "name": "stdout",
          "text": [
            "[1, 3, 6, 1, 9]\n",
            "[2, 4, 7, 2, 10]\n",
            "0 2\n",
            "1 4\n",
            "2 7\n",
            "3 2\n",
            "4 10\n",
            "[2, 4, 7, 2, 10]\n"
          ]
        }
      ]
    },
    {
      "cell_type": "code",
      "source": [
        "lst = [1,3,6,1,9]\n",
        "# к каждому элементу списка необходимо добавить число 1\n",
        "for i in lst:\n",
        "    # в переменной i лежит значение элемента списка\n",
        "    i += 1\n",
        "\n",
        "lst"
      ],
      "metadata": {
        "id": "ogj8Scj_XSnK",
        "outputId": "b75ce4c6-2c84-467e-da14-301fc884b1a9",
        "colab": {
          "base_uri": "https://localhost:8080/"
        }
      },
      "execution_count": null,
      "outputs": [
        {
          "output_type": "execute_result",
          "data": {
            "text/plain": [
              "[1, 3, 6, 1, 9]"
            ]
          },
          "metadata": {},
          "execution_count": 23
        }
      ]
    },
    {
      "cell_type": "markdown",
      "metadata": {
        "id": "M97HWrs8mcdQ"
      },
      "source": [
        "Блок else является особенным.\n",
        "\n",
        "Он будет выполнен только в том случае, если цикл не был «остановлен» оператором break. Таким образом, он будет выполнен только после того, как все элементы последовательности будут пройдены.\n",
        "\n",
        "Если в программе цикл for должен быть прерван оператором break, цикл будет завершен, и поток программы будет продолжен без выполнения действий из else.\n",
        "\n",
        "Обычно фразы **break** в Python связаны с условными операторами."
      ]
    },
    {
      "cell_type": "code",
      "metadata": {
        "id": "EXXAhyPImj7U",
        "colab": {
          "base_uri": "https://localhost:8080/"
        },
        "outputId": "e70195c9-c15e-4ac9-a342-6778de7fe66c"
      },
      "source": [
        "names = [\"Петр\", \"Иван\", \"Мария\"]\n",
        "\n",
        "# Цикл по очередно перебирает имена в списке\n",
        "# Как только мы нашли имя Максим, цикл необходимо преравать и не просматривать следующие элементы\n",
        "for name in names:\n",
        "    if name == \"Максим\":\n",
        "        print(\"Меня зовут Максим!\")\n",
        "        break\n",
        "    print(\"Другие имена\", name)\n",
        "else:\n",
        "    print(\"Спасибо, теперь я знаю все имена\")"
      ],
      "execution_count": null,
      "outputs": [
        {
          "output_type": "stream",
          "name": "stdout",
          "text": [
            "Другие имена Петр\n",
            "Другие имена Иван\n",
            "Другие имена Мария\n",
            "Спасибо, теперь я знаю все имена\n"
          ]
        }
      ]
    },
    {
      "cell_type": "markdown",
      "metadata": {
        "id": "lJy-pFo5neUw"
      },
      "source": [
        "Оператор пропуска Python — **continue**\n",
        "\n",
        "Предположим, имя \"Максим\" нам нужно просто пропустить и продолжить дальше перебор имен. Тогда нужно использовать оператор continue, для перехода к следующему элементу.\n",
        "\n",
        "В следующем маленьком скрипте python мы используем continue, чтобы продолжить, итерацию по списку, когда мы сталкиваемся с нужным именем."
      ]
    },
    {
      "cell_type": "code",
      "metadata": {
        "id": "fSAhBwRZns8V",
        "colab": {
          "base_uri": "https://localhost:8080/"
        },
        "outputId": "3de575ba-47d7-4bf7-8104-757365040239"
      },
      "source": [
        "names = [\"Петр\", \"Иван\", \"Максим\", \"Мария\"]\n",
        "\n",
        "for name in names:\n",
        "    if name == \"Максим\":\n",
        "        print(\"Меня зовут Максим!\")\n",
        "        continue\n",
        "    print(\"Другие имена\", name)\n",
        "else:\n",
        "    print(\"Спасибо, теперь я знаю все имена\")"
      ],
      "execution_count": null,
      "outputs": [
        {
          "output_type": "stream",
          "name": "stdout",
          "text": [
            "Другие имена Петр\n",
            "Другие имена Иван\n",
            "Меня зовут Максим!\n",
            "Другие имена Мария\n",
            "Спасибо, теперь я знаю все имена\n"
          ]
        }
      ]
    },
    {
      "cell_type": "code",
      "source": [
        "for i in range (1, 3):\n",
        "  i = 10\n",
        "  print(i)\n",
        "  i = 11\n",
        "  print(i)\n",
        "  i = 12\n",
        "  print(i)"
      ],
      "metadata": {
        "colab": {
          "base_uri": "https://localhost:8080/"
        },
        "id": "8Et0Yut6-Hun",
        "outputId": "32e046f6-f339-4c84-f4a4-7a31b76ac0c7"
      },
      "execution_count": null,
      "outputs": [
        {
          "output_type": "stream",
          "name": "stdout",
          "text": [
            "10\n",
            "11\n",
            "12\n",
            "10\n",
            "11\n",
            "12\n"
          ]
        }
      ]
    },
    {
      "cell_type": "code",
      "source": [
        "for i in (3):\n",
        "\tprint(i)"
      ],
      "metadata": {
        "id": "JZT5ZivO_aRy",
        "colab": {
          "base_uri": "https://localhost:8080/",
          "height": 183
        },
        "outputId": "a15267e9-c99f-4063-e758-1e213c9a9b79"
      },
      "execution_count": null,
      "outputs": [
        {
          "output_type": "error",
          "ename": "TypeError",
          "evalue": "ignored",
          "traceback": [
            "\u001b[0;31m---------------------------------------------------------------------------\u001b[0m",
            "\u001b[0;31mTypeError\u001b[0m                                 Traceback (most recent call last)",
            "\u001b[0;32m<ipython-input-36-3139a9800908>\u001b[0m in \u001b[0;36m<module>\u001b[0;34m\u001b[0m\n\u001b[0;32m----> 1\u001b[0;31m \u001b[0;32mfor\u001b[0m \u001b[0mi\u001b[0m \u001b[0;32min\u001b[0m \u001b[0;34m(\u001b[0m\u001b[0;36m3\u001b[0m\u001b[0;34m)\u001b[0m\u001b[0;34m:\u001b[0m\u001b[0;34m\u001b[0m\u001b[0;34m\u001b[0m\u001b[0m\n\u001b[0m\u001b[1;32m      2\u001b[0m         \u001b[0mprint\u001b[0m\u001b[0;34m(\u001b[0m\u001b[0mi\u001b[0m\u001b[0;34m)\u001b[0m\u001b[0;34m\u001b[0m\u001b[0;34m\u001b[0m\u001b[0m\n",
            "\u001b[0;31mTypeError\u001b[0m: 'int' object is not iterable"
          ]
        }
      ]
    },
    {
      "cell_type": "markdown",
      "metadata": {
        "id": "hYDlhcezoJS4"
      },
      "source": [
        "### Синтаксис `while`"
      ]
    },
    {
      "cell_type": "markdown",
      "metadata": {
        "id": "gqsgnbSgrJhw"
      },
      "source": [
        "\n",
        "```\n",
        "while <условие (булевское выражение)>:\n",
        "    <code>\n",
        "```\n",
        "\n",
        "Здесь код, написанный вместо `code` будет выполняться каждую итерацию цикла, пока условие после `while` будет выполняться.\n",
        "\n",
        "Посмотрим на примере: Напишем цикл, в котором будем выводить переменную x и увеличивать x на 1, пока x не станет больше 10:"
      ]
    },
    {
      "cell_type": "code",
      "metadata": {
        "colab": {
          "base_uri": "https://localhost:8080/"
        },
        "id": "Hf-lL9zNoVkL",
        "outputId": "18113c74-8668-4853-ed67-61c5504d21aa"
      },
      "source": [
        "x = 1\n",
        "\n",
        "while x <= 10:\n",
        "    print(x)\n",
        "    # более удобный способ записи x = x + 1\n",
        "    x += 1"
      ],
      "execution_count": null,
      "outputs": [
        {
          "output_type": "stream",
          "name": "stdout",
          "text": [
            "1\n",
            "2\n",
            "3\n",
            "4\n",
            "5\n",
            "6\n",
            "7\n",
            "8\n",
            "9\n",
            "10\n"
          ]
        }
      ]
    },
    {
      "cell_type": "markdown",
      "metadata": {
        "id": "-mYgpFLuqT2G"
      },
      "source": [
        "Цикл while является своего рода условным оператором. Вот что значит этот код: пока переменная i меньше 10, её нужно выводить на экран. Далее, в конце, мы увеличиваем её значение на единицу. Если вы запустите этот код, он выдаст от 1 до 10, каждая цифра будет в отдельной строке, после чего задача будет выполнена. Если вы удалите ту часть, в которой мы увеличиваем значение i, то мы получим бесконечный цикл.\n",
        "\n",
        "В циклах `while` также можно использовать оператор break и continue."
      ]
    },
    {
      "cell_type": "code",
      "metadata": {
        "colab": {
          "base_uri": "https://localhost:8080/"
        },
        "id": "hMrwS9teqdxg",
        "outputId": "bbb58ac3-1484-499b-c755-e4209af61698"
      },
      "source": [
        "x = 1\n",
        "\n",
        "while x < 10:\n",
        "    print(x)\n",
        "\n",
        "    if x == 5:\n",
        "        break\n",
        "\n",
        "    x += 1"
      ],
      "execution_count": null,
      "outputs": [
        {
          "output_type": "stream",
          "name": "stdout",
          "text": [
            "1\n",
            "2\n",
            "3\n",
            "4\n",
            "5\n"
          ]
        }
      ]
    },
    {
      "cell_type": "code",
      "metadata": {
        "colab": {
          "base_uri": "https://localhost:8080/"
        },
        "id": "NUnhQoIRq47g",
        "outputId": "714cda91-63be-4a66-d50f-58c75b06d785"
      },
      "source": [
        "x = 1\n",
        "\n",
        "while x < 10:\n",
        "    if x == 3:\n",
        "        x += 1\n",
        "        continue\n",
        "\n",
        "    print(x)\n",
        "    if x == 5:\n",
        "        break\n",
        "\n",
        "    x += 1"
      ],
      "execution_count": null,
      "outputs": [
        {
          "output_type": "stream",
          "name": "stdout",
          "text": [
            "1\n",
            "2\n",
            "4\n",
            "5\n"
          ]
        }
      ]
    },
    {
      "cell_type": "markdown",
      "metadata": {
        "id": "1iXQqU-UNQGG"
      },
      "source": [
        "## Область видимости"
      ]
    },
    {
      "cell_type": "markdown",
      "metadata": {
        "id": "2vgaxa2pQOJ0"
      },
      "source": [
        "Некоторые переменные программы могут быть недоступны некоторым областям данной программы. Все зависит от того, где вы объявили эти переменные.\n",
        "\n",
        "В Python две базовых области видимости переменных:\n",
        "- Глобальные переменные\n",
        "- Локальные переменные\n",
        "\n",
        "Переменные объявленные внутри тела функции имеют локальную область видимости, те что объявлены вне какой-либо функции имеют глобальную область видимости.\n",
        "\n",
        "Это означает, что доступ к локальным переменным имеют только те функции, в которых они были объявлены, в то время как доступ к глобальным переменным можно получить по всей программе в любой функции."
      ]
    },
    {
      "cell_type": "code",
      "metadata": {
        "id": "qFUDLXIOQIPD",
        "colab": {
          "base_uri": "https://localhost:8080/",
          "height": 253
        },
        "outputId": "ebfbb032-7c33-4ba3-a49d-0f52073f493f"
      },
      "source": [
        "z = 100 # z - глобальная переменная и может быть использована в любом месте программы (в том числе внутри функции)\n",
        "\n",
        "def summa(x, y):\n",
        "    p = x + y\n",
        "    return None\n",
        "\n",
        "def summa1(x, y):\n",
        "    s = x + y + z\n",
        "    return s\n",
        "\n",
        "summa(1,2) #вызовем функцию и передадим ей два числа 1 и 2\n",
        "print(p) # тут возникнет ошибка (так как вне функции переменная s не доступна)\n",
        "\n",
        "summa1(1,2) # в данной случае функция вернет сумму трех числе 1 + 2 + 100, так как переменная z доступна в любой части программы\n",
        "            # в том числе внутри функций"
      ],
      "execution_count": null,
      "outputs": [
        {
          "output_type": "error",
          "ename": "NameError",
          "evalue": "ignored",
          "traceback": [
            "\u001b[0;31m---------------------------------------------------------------------------\u001b[0m",
            "\u001b[0;31mNameError\u001b[0m                                 Traceback (most recent call last)",
            "\u001b[0;32m<ipython-input-44-0ca2b4245a11>\u001b[0m in \u001b[0;36m<module>\u001b[0;34m\u001b[0m\n\u001b[1;32m     10\u001b[0m \u001b[0;34m\u001b[0m\u001b[0m\n\u001b[1;32m     11\u001b[0m \u001b[0msumma\u001b[0m\u001b[0;34m(\u001b[0m\u001b[0;36m1\u001b[0m\u001b[0;34m,\u001b[0m\u001b[0;36m2\u001b[0m\u001b[0;34m)\u001b[0m \u001b[0;31m#вызовем функцию и передадим ей два числа 1 и 2\u001b[0m\u001b[0;34m\u001b[0m\u001b[0;34m\u001b[0m\u001b[0m\n\u001b[0;32m---> 12\u001b[0;31m \u001b[0mprint\u001b[0m\u001b[0;34m(\u001b[0m\u001b[0mp\u001b[0m\u001b[0;34m)\u001b[0m \u001b[0;31m# тут возникнет ошибка (так как вне функции переменная s не доступна)\u001b[0m\u001b[0;34m\u001b[0m\u001b[0;34m\u001b[0m\u001b[0m\n\u001b[0m\u001b[1;32m     13\u001b[0m \u001b[0;34m\u001b[0m\u001b[0m\n\u001b[1;32m     14\u001b[0m \u001b[0msumma1\u001b[0m\u001b[0;34m(\u001b[0m\u001b[0;36m1\u001b[0m\u001b[0;34m,\u001b[0m\u001b[0;36m2\u001b[0m\u001b[0;34m)\u001b[0m \u001b[0;31m# в данной случае функция вернет сумму трех числе 1 + 2 + 100, так как переменная z доступна в любой части программы\u001b[0m\u001b[0;34m\u001b[0m\u001b[0;34m\u001b[0m\u001b[0m\n",
            "\u001b[0;31mNameError\u001b[0m: name 'p' is not defined"
          ]
        }
      ]
    },
    {
      "cell_type": "markdown",
      "metadata": {
        "id": "PvEBQds_R2Em"
      },
      "source": [
        "Важно помнить, что для того чтобы получить доступ к глобальной переменной, достаточно лишь указать ее имя. Однако, если перед нами стоит задача изменить глобальную переменную внутри функции - необходимо использовать ключевое слово **global**."
      ]
    },
    {
      "cell_type": "code",
      "metadata": {
        "id": "YHgY4TOGR367"
      },
      "source": [
        "z = 0\n",
        "\n",
        "def summa(x, y):\n",
        "    z = x + y\n",
        "    return None\n",
        "\n",
        "def summa1(x, y):\n",
        "    global z\n",
        "    z = x + y\n",
        "    return None\n",
        "\n",
        "summa(1,2) # при вызове данной функции значение глобальной переменной z не измениться\n",
        "summa1(1,2) # при вызове данной функции значение глобальной переменной z  измениться"
      ],
      "execution_count": null,
      "outputs": []
    },
    {
      "cell_type": "markdown",
      "source": [
        "## Оператор * и **"
      ],
      "metadata": {
        "id": "etwWBtOMQ-xr"
      }
    },
    {
      "cell_type": "markdown",
      "source": [
        "В Python, так же как и в С/С++ существует оператор *. Но делает он вовсе не то, что от него принято ожидать программистам на C/C++. В первую очередь он служит для распаковки аргументов."
      ],
      "metadata": {
        "id": "Un4LQRHwRDQe"
      }
    },
    {
      "cell_type": "code",
      "source": [
        "numbers = [1, 2, 3, 4, 5]\n",
        "more_numbers = [*numbers, 6, 7]\n",
        "print(*more_numbers, sep=', ')"
      ],
      "metadata": {
        "colab": {
          "base_uri": "https://localhost:8080/"
        },
        "id": "qccTlsmxROov",
        "outputId": "ac0cdee7-0c1e-4ce0-c5b0-533a193273a6"
      },
      "execution_count": null,
      "outputs": [
        {
          "output_type": "stream",
          "name": "stdout",
          "text": [
            "1, 2, 3, 4, 5, 6, 7\n"
          ]
        }
      ]
    },
    {
      "cell_type": "code",
      "source": [
        "num = [numbers, 6, 7]\n",
        "print(*num, sep=', ')"
      ],
      "metadata": {
        "colab": {
          "base_uri": "https://localhost:8080/"
        },
        "id": "08y6jBgEDgFz",
        "outputId": "0910211e-ba9e-45bd-d68f-3a5aa05a48f9"
      },
      "execution_count": null,
      "outputs": [
        {
          "output_type": "stream",
          "name": "stdout",
          "text": [
            "[1, 2, 3, 4, 5], 6, 7\n"
          ]
        }
      ]
    },
    {
      "cell_type": "code",
      "source": [
        "names = ['Petr', 'Yaroslav', 'Dmitriy', 'Sergey']\n",
        "print(names[0], names[1], names[2], names[3])\n",
        "\n",
        "print(*names)"
      ],
      "metadata": {
        "colab": {
          "base_uri": "https://localhost:8080/"
        },
        "id": "rFW8qpAmROrv",
        "outputId": "d823a0ec-9ee4-4f0f-f449-fcf141fff224"
      },
      "execution_count": null,
      "outputs": [
        {
          "output_type": "stream",
          "name": "stdout",
          "text": [
            "Petr Yaroslav Dmitriy Sergey\n",
            "Petr Yaroslav Dmitriy Sergey\n"
          ]
        }
      ]
    },
    {
      "cell_type": "markdown",
      "source": [
        "Оператр ** можно использовать для распаковки аргументов словаря. Обратите внимание, что в этом случае требуется указание конкретных ключей для словаря."
      ],
      "metadata": {
        "id": "m0ZhOEgqf6va"
      }
    },
    {
      "cell_type": "code",
      "source": [
        "date_info = {'year': \"2020\", 'month': \"01\", 'day': \"01\"}\n",
        "filename = \"{year}-{month}-{day}.txt\".format(**date_info)\n",
        "print(filename)"
      ],
      "metadata": {
        "colab": {
          "base_uri": "https://localhost:8080/"
        },
        "id": "Zn5kXApPT7vP",
        "outputId": "1bc4f81c-6dc9-426b-de4d-386223ccdb5b"
      },
      "execution_count": null,
      "outputs": [
        {
          "output_type": "stream",
          "name": "stdout",
          "text": [
            "2020-01-01.txt\n"
          ]
        }
      ]
    },
    {
      "cell_type": "markdown",
      "source": [
        "## Обработка исключений"
      ],
      "metadata": {
        "id": "HNSpiUDmCEPd"
      }
    },
    {
      "cell_type": "markdown",
      "source": [
        "Часто можно столкнуться с тем, что выполняемый код потенциально не может быть выполнен. Иногда это происходит в силу ошибок, а иногда в силу специфики задачи. Такие ситуации можно обрабатывать с помощью инструментов работы с исключениями."
      ],
      "metadata": {
        "id": "C0_7Vm8cCHIm"
      }
    },
    {
      "cell_type": "code",
      "source": [
        "100 / 0"
      ],
      "metadata": {
        "id": "bGhKM2SfCXjI",
        "colab": {
          "base_uri": "https://localhost:8080/",
          "height": 166
        },
        "outputId": "62f25699-d90b-401e-e6b8-8bede7e543f8"
      },
      "execution_count": null,
      "outputs": [
        {
          "output_type": "error",
          "ename": "ZeroDivisionError",
          "evalue": "ignored",
          "traceback": [
            "\u001b[0;31m---------------------------------------------------------------------------\u001b[0m",
            "\u001b[0;31mZeroDivisionError\u001b[0m                         Traceback (most recent call last)",
            "\u001b[0;32m<ipython-input-57-e9e866a10e2a>\u001b[0m in \u001b[0;36m<module>\u001b[0;34m\u001b[0m\n\u001b[0;32m----> 1\u001b[0;31m \u001b[0;36m100\u001b[0m \u001b[0;34m/\u001b[0m \u001b[0;36m0\u001b[0m\u001b[0;34m\u001b[0m\u001b[0;34m\u001b[0m\u001b[0m\n\u001b[0m",
            "\u001b[0;31mZeroDivisionError\u001b[0m: division by zero"
          ]
        }
      ]
    },
    {
      "cell_type": "code",
      "source": [
        "2 + '1'"
      ],
      "metadata": {
        "id": "SeQku2TACZIv",
        "colab": {
          "base_uri": "https://localhost:8080/",
          "height": 166
        },
        "outputId": "1b7fd051-d4c4-4817-b4c1-8a96b1f30b66"
      },
      "execution_count": null,
      "outputs": [
        {
          "output_type": "error",
          "ename": "TypeError",
          "evalue": "ignored",
          "traceback": [
            "\u001b[0;31m---------------------------------------------------------------------------\u001b[0m",
            "\u001b[0;31mTypeError\u001b[0m                                 Traceback (most recent call last)",
            "\u001b[0;32m<ipython-input-58-ec91ee6d378c>\u001b[0m in \u001b[0;36m<module>\u001b[0;34m\u001b[0m\n\u001b[0;32m----> 1\u001b[0;31m \u001b[0;36m2\u001b[0m \u001b[0;34m+\u001b[0m \u001b[0;34m'1'\u001b[0m\u001b[0;34m\u001b[0m\u001b[0;34m\u001b[0m\u001b[0m\n\u001b[0m",
            "\u001b[0;31mTypeError\u001b[0m: unsupported operand type(s) for +: 'int' and 'str'"
          ]
        }
      ]
    },
    {
      "cell_type": "code",
      "source": [
        "int('qwerty')"
      ],
      "metadata": {
        "id": "uhePuTZrCbqr",
        "colab": {
          "base_uri": "https://localhost:8080/",
          "height": 166
        },
        "outputId": "33745cd6-ff43-4f00-91b7-4aaa5d7d7c9f"
      },
      "execution_count": null,
      "outputs": [
        {
          "output_type": "error",
          "ename": "ValueError",
          "evalue": "ignored",
          "traceback": [
            "\u001b[0;31m---------------------------------------------------------------------------\u001b[0m",
            "\u001b[0;31mValueError\u001b[0m                                Traceback (most recent call last)",
            "\u001b[0;32m<ipython-input-59-9665c311c27f>\u001b[0m in \u001b[0;36m<module>\u001b[0;34m\u001b[0m\n\u001b[0;32m----> 1\u001b[0;31m \u001b[0mint\u001b[0m\u001b[0;34m(\u001b[0m\u001b[0;34m'qwerty'\u001b[0m\u001b[0;34m)\u001b[0m\u001b[0;34m\u001b[0m\u001b[0;34m\u001b[0m\u001b[0m\n\u001b[0m",
            "\u001b[0;31mValueError\u001b[0m: invalid literal for int() with base 10: 'qwerty'"
          ]
        }
      ]
    },
    {
      "cell_type": "markdown",
      "source": [
        "Для работы с исключениями нужно использовать специалную конструкцию, похожую на стандартный оператор ветвления: если получится, выполни операцию, а иначе выполни другую операцию."
      ],
      "metadata": {
        "id": "04AXrdfICcj0"
      }
    },
    {
      "cell_type": "code",
      "source": [
        "try:\n",
        "    k = 1 / 0\n",
        "except ZeroDivisionError:\n",
        "    k = 0\n",
        "print(k)"
      ],
      "metadata": {
        "colab": {
          "base_uri": "https://localhost:8080/"
        },
        "id": "uV6ScMA3CuEz",
        "outputId": "b8a8d177-e591-42c4-a616-db4065f18602"
      },
      "execution_count": null,
      "outputs": [
        {
          "output_type": "stream",
          "name": "stdout",
          "text": [
            "0\n"
          ]
        }
      ]
    },
    {
      "cell_type": "code",
      "source": [
        "try:\n",
        "    k = 1 / 0\n",
        "except ArithmeticError:\n",
        "    k = 0\n",
        "print(k)"
      ],
      "metadata": {
        "colab": {
          "base_uri": "https://localhost:8080/"
        },
        "id": "ta65rY3dC3k4",
        "outputId": "92c7736a-f493-4321-8898-6f342f43a38c"
      },
      "execution_count": null,
      "outputs": [
        {
          "output_type": "stream",
          "name": "stdout",
          "text": [
            "0\n"
          ]
        }
      ]
    },
    {
      "cell_type": "code",
      "source": [
        "try:\n",
        "    k = 1 / 0\n",
        "except:\n",
        "    k = 0\n",
        "print(k)"
      ],
      "metadata": {
        "colab": {
          "base_uri": "https://localhost:8080/"
        },
        "id": "iwh1zKJRC8eS",
        "outputId": "14933b2b-6265-4c88-9656-c15f9d9a63d0"
      },
      "execution_count": null,
      "outputs": [
        {
          "output_type": "stream",
          "name": "stdout",
          "text": [
            "0\n"
          ]
        }
      ]
    },
    {
      "cell_type": "markdown",
      "source": [
        "Обратите внимание, что исключения имеют иерархию. Можно обращаться к каждому отдельному исключению."
      ],
      "metadata": {
        "id": "cm8Nl5DrC98j"
      }
    },
    {
      "cell_type": "markdown",
      "metadata": {
        "id": "jWUQZ7olS4Ts"
      },
      "source": [
        "## Задания"
      ]
    },
    {
      "cell_type": "markdown",
      "metadata": {
        "id": "d97xcXfZTIea"
      },
      "source": [
        "**Задача 6.**\n",
        "\n",
        "Даны четыре действительных числа: x1, y1, x2, y2. Напишите функцию distance(x1, y1, x2, y2), вычисляющая расстояние между точкой (x1,y1) и (x2,y2)."
      ]
    },
    {
      "cell_type": "code",
      "metadata": {
        "id": "FwoN8YrfS8S9"
      },
      "source": [
        "def distance (x1, y1, x2, y2):\n",
        "  r=sqrt((x1-x2)**2-(y1-y2)**2)\n",
        "  return r\n",
        "\n"
      ],
      "execution_count": null,
      "outputs": []
    },
    {
      "cell_type": "markdown",
      "metadata": {
        "id": "04v60qczU_fi"
      },
      "source": [
        "**Задача 7.**\n",
        "\n",
        "Написать функцию season(month), принимающую 1 аргумент — номер месяца (от 1 до 12), которая присваивает глобальной переменной s время года, которому этот месяц принадлежит (зима, весна, лето или осень)."
      ]
    },
    {
      "cell_type": "code",
      "metadata": {
        "id": "j56j5EvKWsy1"
      },
      "source": [
        "def season(month):\n",
        "  if (9<=month<=11):\n",
        "    s='осень'\n",
        "  elif (3<=month<=5):\n",
        "    s='весна'\n",
        "  elif (6<=month<=8):\n",
        "    s='лето'\n",
        "  else: s='зима'"
      ],
      "execution_count": null,
      "outputs": []
    },
    {
      "cell_type": "markdown",
      "metadata": {
        "id": "Xo4YtE9XWwJ-"
      },
      "source": [
        "**Задача 8.**\n",
        "\n",
        "Написать функцию is_prime, принимающую 1 аргумент — число от 0 до 1000, и возвращающую True, если оно простое, и False - иначе."
      ]
    },
    {
      "cell_type": "code",
      "metadata": {
        "id": "JaI9rY6cW0YA"
      },
      "source": [
        "def is_prime(k):\n",
        "  d=0\n",
        "  while (i**2<=k):\n",
        "    if (k%i==0): d=1\n",
        "    i=i+1\n",
        "  if (d==0): return True\n",
        "  else: return False"
      ],
      "execution_count": null,
      "outputs": []
    },
    {
      "cell_type": "markdown",
      "metadata": {
        "id": "siBlTugkX5Il"
      },
      "source": [
        "**Задача 9.**\n",
        "\n",
        "Написать функцию reverse_list(lst), которая принимает в качестве аргумента список и возвращаем его в перевернутом виде.\n",
        "\n",
        "Например,\n",
        "- исходный спискок:  8, 1, 0, 4\n",
        "- полученный спискок: 4, 0, 1, 8\n",
        "\n",
        "Использовать встроенные функции Python нельзя."
      ]
    },
    {
      "cell_type": "code",
      "metadata": {
        "id": "6YqPaxokYT1_",
        "colab": {
          "base_uri": "https://localhost:8080/"
        },
        "outputId": "c6ff1824-abbe-4840-88fb-c72dfee3530b"
      },
      "source": [
        "def reverse_list(lst):\n",
        "  lst1=lst[::-1]\n",
        "  return lst1\n",
        "\n"
      ],
      "execution_count": null,
      "outputs": [
        {
          "output_type": "stream",
          "name": "stdout",
          "text": [
            "0 1 2 3 4\n",
            "['4', ' ', '3', ' ', '2', ' ', '1', ' ', '0']\n"
          ]
        }
      ]
    },
    {
      "cell_type": "markdown",
      "metadata": {
        "id": "Ei25f1pVsQLt"
      },
      "source": [
        "**Задача 10.**\n",
        "\n",
        "Напишите код, который все элементы массива x с нечетными индексами переставит в обратном порядке.\n",
        "\n",
        "Т.е. если x = [0, 1, 2, 3, 4, 5, 6, 7, 8, 9], то код должен получать [0, 9, 2, 7, 4, 5, 6, 3, 8, 1]"
      ]
    },
    {
      "cell_type": "code",
      "metadata": {
        "id": "o93nN1cJsXNy",
        "colab": {
          "base_uri": "https://localhost:8080/"
        },
        "outputId": "d07b1b5a-2ca4-45fd-b084-256e20bf37e6"
      },
      "source": [
        "def reverse_list(lst):\n",
        "  a=int(len(lst)/2)\n",
        "  b=len(lst)-1\n",
        "  for i in range (b, a-1):\n",
        "    if (i%2==0):\n",
        "      y=lst[i]\n",
        "      lst[i]=lst[b-i]\n",
        "      lst[b-i]=y\n",
        "  return lst\n",
        "x=list(input())\n",
        "print (reverse_list(x))"
      ],
      "execution_count": null,
      "outputs": [
        {
          "output_type": "stream",
          "name": "stdout",
          "text": [
            "0 1 2 3 4 \n",
            "['0', ' ', '1', ' ', '2', ' ', '3', ' ', '4', ' ']\n"
          ]
        }
      ]
    },
    {
      "cell_type": "markdown",
      "metadata": {
        "id": "-qcaQystsXYY"
      },
      "source": [
        "**Задача 11.**\n",
        "\n",
        "Напишите цикл, который выводит все числа от 0 до 500, делящиеся на 7, если в них есть цифра 8."
      ]
    },
    {
      "cell_type": "code",
      "metadata": {
        "id": "5-d0zkldsuvr",
        "colab": {
          "base_uri": "https://localhost:8080/"
        },
        "outputId": "363a49ac-3f1a-4827-ff99-0fea296d9a8b"
      },
      "source": [
        "for i in range (0,500):\n",
        "  if (i%7==0):\n",
        "    if (i%10==8 or (i%100)//10==8 or i//100==8):\n",
        "      print(i)"
      ],
      "execution_count": null,
      "outputs": [
        {
          "output_type": "stream",
          "name": "stdout",
          "text": [
            "28\n",
            "84\n",
            "98\n",
            "168\n",
            "182\n",
            "189\n",
            "238\n",
            "280\n",
            "287\n",
            "308\n",
            "378\n",
            "385\n",
            "448\n",
            "483\n"
          ]
        }
      ]
    },
    {
      "cell_type": "markdown",
      "metadata": {
        "id": "CTWMY6f9su7P"
      },
      "source": [
        "**Задача 12.**\n",
        "\n",
        "На вход функция more_than_five(lst) получает список из целых чисел.\n",
        "Результатом работы функции должен стать новый список, в котором содержатся только те числа, которые больше 10 по модулю."
      ]
    },
    {
      "cell_type": "code",
      "metadata": {
        "id": "ChE1X9wvtMzQ"
      },
      "source": [
        "def more_than_five(lst):\n",
        "  j=0\n",
        "  for i in range (len(lst)):\n",
        "    if (lst[i]>=10 or (-lst[i])<=-10):\n",
        "      x[j]=lst[i]\n",
        "      j=j+1\n",
        "  return x\n"
      ],
      "execution_count": null,
      "outputs": []
    },
    {
      "cell_type": "markdown",
      "source": [
        "**Задача 13.**"
      ],
      "metadata": {
        "id": "2HLDn1Gyi-oP"
      }
    },
    {
      "cell_type": "markdown",
      "source": [
        "Напишите программу, которая ищет среди целых чисел, принадлежащих числовому отрезку [210 235; 210 300], числа, имеющие ровно четыре различных натуральных делителя, не считая единицы и самого числа. Для каждого найденного числа запишите эти четыре делителя в четыре соседних столбца на экране с новой строки. Делители в строке должны следовать в порядке возрастания.\n",
        "\n",
        "Например, в диапазоне [10; 16] ровно четыре различных натуральных делителя имеет число 12, поэтому для этого диапазона вывод на экране должна содержать следующие значения:\n",
        "\n",
        "2 3 4 6"
      ],
      "metadata": {
        "id": "Kese52QOjAZH"
      }
    },
    {
      "cell_type": "code",
      "source": [
        "for i in range (210235,210300):\n",
        "  j=2\n",
        "  k=0\n",
        "  d=[]\n",
        "  while (j<i):\n",
        "    if (i%j==0):\n",
        "      d.append(j)\n",
        "      k=k+1\n",
        "    j=j+1\n",
        "  if (k==4):\n",
        "    print (i, d)"
      ],
      "metadata": {
        "id": "YZOiIZR_jplC",
        "colab": {
          "base_uri": "https://localhost:8080/"
        },
        "outputId": "3b3ecb56-6c4e-4d5e-e4f7-8dc9bcfaeea0"
      },
      "execution_count": null,
      "outputs": [
        {
          "output_type": "stream",
          "name": "stdout",
          "text": [
            "210244 [2, 4, 52561, 105122]\n",
            "210268 [2, 4, 52567, 105134]\n",
            "210284 [2, 4, 52571, 105142]\n"
          ]
        }
      ]
    }
  ]
}